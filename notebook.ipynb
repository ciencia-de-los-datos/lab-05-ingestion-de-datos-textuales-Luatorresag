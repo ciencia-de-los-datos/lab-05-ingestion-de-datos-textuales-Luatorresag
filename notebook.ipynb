{
 "cells": [
  {
   "cell_type": "code",
   "execution_count": 1,
   "metadata": {},
   "outputs": [],
   "source": [
    "import os\n",
    "import zipfile\n",
    "import glob\n",
    "import pandas as pd"
   ]
  },
  {
   "cell_type": "code",
   "execution_count": 4,
   "metadata": {},
   "outputs": [],
   "source": [
    "def extract_file(compress_file: str, output_directory: str) -> None:\n",
    "\n",
    "    if not os.path.exists(compress_file):\n",
    "        raise Exception(\"No existe el archivo\")\n",
    "\n",
    "    if not os.path.exists(output_directory):\n",
    "        os.mkdir(output_directory)\n",
    "\n",
    "    with zipfile.ZipFile(compress_file, mode=\"r\") as file_zip:\n",
    "        file_zip.extractall(output_directory)\n"
   ]
  },
  {
   "cell_type": "code",
   "execution_count": 9,
   "metadata": {},
   "outputs": [],
   "source": [
    "def get_list_data(files):\n",
    "    list_data = []\n",
    "\n",
    "    for file_ in files:\n",
    "\n",
    "        with open(file_, \"r\") as doc:\n",
    "            doc_data = doc.readline()\n",
    "        folder = file_.split(\"\\\\\")[1]\n",
    "        list_data.append([doc_data, folder])\n",
    "\n",
    "    return list_data\n"
   ]
  },
  {
   "cell_type": "code",
   "execution_count": 10,
   "metadata": {},
   "outputs": [],
   "source": [
    "def save(data, name_file, path=None):\n",
    "\n",
    "    if path:\n",
    "        if not os.path.exists(path):\n",
    "            os.mkdir(path)\n",
    "            name_file = os.path.join(path, name_file)\n",
    "    data.to_csv(name_file, index=False)"
   ]
  },
  {
   "cell_type": "code",
   "execution_count": 12,
   "metadata": {},
   "outputs": [],
   "source": [
    "def main():\n",
    "    extract_file(\"data.zip\", \"data\")\n",
    "\n",
    "    pattern_test = \"data/test/*/*.txt\"\n",
    "    pattern_train = \"data/train/*/*.txt\"\n",
    "\n",
    "    files_test = glob.glob(pattern_test)\n",
    "    files_train = glob.glob(pattern_train)\n",
    "\n",
    "    data_test = get_list_data(files_test)\n",
    "    data_train = get_list_data(files_train)\n",
    "\n",
    "    columns = [\"phrase\", \"sentiment\"]\n",
    "    df_test = pd.DataFrame(data_test, columns=columns)\n",
    "    df_train = pd.DataFrame(data_train, columns=columns)\n",
    "    save(df_test, \"test_dataset.csv\")\n",
    "    save(df_train, \"train_dataset.csv\")\n",
    "main()"
   ]
  }
 ],
 "metadata": {
  "kernelspec": {
   "display_name": ".venv",
   "language": "python",
   "name": "python3"
  },
  "language_info": {
   "codemirror_mode": {
    "name": "ipython",
    "version": 3
   },
   "file_extension": ".py",
   "mimetype": "text/x-python",
   "name": "python",
   "nbconvert_exporter": "python",
   "pygments_lexer": "ipython3",
   "version": "3.11.9"
  }
 },
 "nbformat": 4,
 "nbformat_minor": 2
}
